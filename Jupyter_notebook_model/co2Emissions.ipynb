{
 "cells": [
  {
   "cell_type": "code",
   "execution_count": 1,
   "id": "e338c3cd-abeb-4531-902d-73e88c59bfb7",
   "metadata": {},
   "outputs": [],
   "source": [
    "import pandas as pd\n",
    "import numpy as np\n",
    "import matplotlib.pyplot as plt\n",
    "from sklearn.model_selection import train_test_split\n",
    "from sklearn.linear_model import LinearRegression\n"
   ]
  },
  {
   "cell_type": "code",
   "execution_count": 7,
   "id": "03c752db-fc5c-4df3-b437-12b24896fc0f",
   "metadata": {},
   "outputs": [],
   "source": [
    "data = pd.read_csv('CO2_Emissions_Canada.csv')"
   ]
  },
  {
   "cell_type": "code",
   "execution_count": 9,
   "id": "2301a87d-d95e-426e-994b-20b4b34a3b98",
   "metadata": {},
   "outputs": [
    {
     "name": "stdout",
     "output_type": "stream",
     "text": [
      "Make                                0\n",
      "Model                               0\n",
      "Vehicle Class                       0\n",
      "Engine Size(L)                      0\n",
      "Cylinders                           0\n",
      "Transmission                        0\n",
      "Fuel Type                           0\n",
      "Fuel Consumption City (L/100 km)    0\n",
      "Fuel Consumption Hwy (L/100 km)     0\n",
      "Fuel Consumption Comb (L/100 km)    0\n",
      "Fuel Consumption Comb (mpg)         0\n",
      "CO2 Emissions(g/km)                 0\n",
      "dtype: int64\n"
     ]
    }
   ],
   "source": [
    "print(data.isnull().sum()) #checking for missing values"
   ]
  },
  {
   "cell_type": "code",
   "execution_count": 11,
   "id": "07e889a5-6e4a-43d9-9a8e-8a0efa798fe2",
   "metadata": {},
   "outputs": [
    {
     "name": "stdout",
     "output_type": "stream",
     "text": [
      "    Make       Model Vehicle Class  Engine Size(L)  Cylinders Transmission  \\\n",
      "0  ACURA         ILX       COMPACT             2.0          4          AS5   \n",
      "1  ACURA         ILX       COMPACT             2.4          4           M6   \n",
      "2  ACURA  ILX HYBRID       COMPACT             1.5          4          AV7   \n",
      "3  ACURA     MDX 4WD   SUV - SMALL             3.5          6          AS6   \n",
      "4  ACURA     RDX AWD   SUV - SMALL             3.5          6          AS6   \n",
      "\n",
      "  Fuel Type  Fuel Consumption City (L/100 km)  \\\n",
      "0         Z                               9.9   \n",
      "1         Z                              11.2   \n",
      "2         Z                               6.0   \n",
      "3         Z                              12.7   \n",
      "4         Z                              12.1   \n",
      "\n",
      "   Fuel Consumption Hwy (L/100 km)  Fuel Consumption Comb (L/100 km)  \\\n",
      "0                              6.7                               8.5   \n",
      "1                              7.7                               9.6   \n",
      "2                              5.8                               5.9   \n",
      "3                              9.1                              11.1   \n",
      "4                              8.7                              10.6   \n",
      "\n",
      "   Fuel Consumption Comb (mpg)  CO2 Emissions(g/km)  \n",
      "0                           33                  196  \n",
      "1                           29                  221  \n",
      "2                           48                  136  \n",
      "3                           25                  255  \n",
      "4                           27                  244  \n"
     ]
    }
   ],
   "source": [
    "print(data.head())"
   ]
  },
  {
   "cell_type": "code",
   "execution_count": 13,
   "id": "b5cde234-7999-4fe1-bff2-7a212e980d2d",
   "metadata": {},
   "outputs": [
    {
     "name": "stdout",
     "output_type": "stream",
     "text": [
      "       Engine Size(L)    Cylinders  Fuel Consumption City (L/100 km)  \\\n",
      "count     7385.000000  7385.000000                       7385.000000   \n",
      "mean         3.160068     5.615030                         12.556534   \n",
      "std          1.354170     1.828307                          3.500274   \n",
      "min          0.900000     3.000000                          4.200000   \n",
      "25%          2.000000     4.000000                         10.100000   \n",
      "50%          3.000000     6.000000                         12.100000   \n",
      "75%          3.700000     6.000000                         14.600000   \n",
      "max          8.400000    16.000000                         30.600000   \n",
      "\n",
      "       Fuel Consumption Hwy (L/100 km)  Fuel Consumption Comb (L/100 km)  \\\n",
      "count                      7385.000000                       7385.000000   \n",
      "mean                          9.041706                         10.975071   \n",
      "std                           2.224456                          2.892506   \n",
      "min                           4.000000                          4.100000   \n",
      "25%                           7.500000                          8.900000   \n",
      "50%                           8.700000                         10.600000   \n",
      "75%                          10.200000                         12.600000   \n",
      "max                          20.600000                         26.100000   \n",
      "\n",
      "       Fuel Consumption Comb (mpg)  CO2 Emissions(g/km)  \n",
      "count                  7385.000000          7385.000000  \n",
      "mean                     27.481652           250.584699  \n",
      "std                       7.231879            58.512679  \n",
      "min                      11.000000            96.000000  \n",
      "25%                      22.000000           208.000000  \n",
      "50%                      27.000000           246.000000  \n",
      "75%                      32.000000           288.000000  \n",
      "max                      69.000000           522.000000  \n"
     ]
    }
   ],
   "source": [
    "print(data.describe())"
   ]
  },
  {
   "cell_type": "code",
   "execution_count": 55,
   "id": "858b169c-3e14-4659-9d4f-6c47f84a302c",
   "metadata": {},
   "outputs": [],
   "source": [
    "#selecting features\n",
    "x = data[['Engine Size(L)', 'Cylinders', 'Fuel Consumption City (L/100 km)', 'Fuel Consumption Hwy (L/100 km)', 'Fuel Consumption Comb (mpg)']]\n",
    "y = data['CO2 Emissions(g/km)']"
   ]
  },
  {
   "cell_type": "code",
   "execution_count": 57,
   "id": "fd974b42-ac29-44ec-8144-f1708d29bb20",
   "metadata": {},
   "outputs": [],
   "source": [
    "#split data\n",
    "x_train, x_test, y_train, y_test = train_test_split(x, y, test_size= 0.2, random_state=42)"
   ]
  },
  {
   "cell_type": "code",
   "execution_count": 59,
   "id": "ff14efed-0a3e-4764-952f-5ab265f3fd0c",
   "metadata": {},
   "outputs": [
    {
     "name": "stdout",
     "output_type": "stream",
     "text": [
      "Model trained successfully!!\n"
     ]
    }
   ],
   "source": [
    "#train model\n",
    "#creating linear regression model\n",
    "model = LinearRegression()\n",
    "model.fit(x_train, y_train)\n",
    "print(\"Model trained successfully!!\")"
   ]
  },
  {
   "cell_type": "code",
   "execution_count": 61,
   "id": "1a01be4c-24c5-45df-892c-c83fd1b31fa8",
   "metadata": {},
   "outputs": [
    {
     "name": "stdout",
     "output_type": "stream",
     "text": [
      "[257.47539485 321.64695922 324.91966944 306.46755914 296.33368749\n",
      " 323.9648677  250.98439433 216.14958011 236.70106762 224.20170617]\n"
     ]
    }
   ],
   "source": [
    "#predicting co2 emissions\n",
    "y_pred = model.predict(x_test)\n",
    "print(y_pred[:10])"
   ]
  },
  {
   "cell_type": "code",
   "execution_count": 63,
   "id": "acace947-52da-4e02-8398-6a81842d8a57",
   "metadata": {},
   "outputs": [
    {
     "name": "stdout",
     "output_type": "stream",
     "text": [
      "Index(['Engine Size(L)', 'Cylinders', 'Fuel Consumption City (L/100 km)',\n",
      "       'Fuel Consumption Hwy (L/100 km)', 'Fuel Consumption Comb (mpg)'],\n",
      "      dtype='object')\n"
     ]
    }
   ],
   "source": [
    "print(x.columns)"
   ]
  },
  {
   "cell_type": "code",
   "execution_count": 65,
   "id": "f4902b22-50b9-4346-8bd8-91234534c242",
   "metadata": {},
   "outputs": [
    {
     "name": "stdout",
     "output_type": "stream",
     "text": [
      "Predicted CO2 Emissions: 307.17 g/km\n"
     ]
    }
   ],
   "source": [
    "#Testing using sample input data\n",
    "sample_input =[[3.0, 6, 12.0, 8.0, 10.0]]\n",
    "sample_input_df = pd.DataFrame(sample_input, columns=x.columns)\n",
    "prediction = model.predict(sample_input_df)\n",
    "print(f\"Predicted CO2 Emissions: {prediction[0]:.2f} g/km\")"
   ]
  },
  {
   "cell_type": "code",
   "execution_count": 67,
   "id": "f049d9f5-847d-4d14-acbf-2e35543c3975",
   "metadata": {},
   "outputs": [
    {
     "name": "stdout",
     "output_type": "stream",
     "text": [
      "Mean Squared Error: 337.4597605023134\n",
      "R-squared: 0.9018906062103024\n"
     ]
    }
   ],
   "source": [
    "#model's evaluation \n",
    "from sklearn.metrics import mean_squared_error, r2_score\n",
    "mse = mean_squared_error(y_test, y_pred)\n",
    "r2= r2_score(y_test, y_pred)\n",
    "\n",
    "print(f\"Mean Squared Error: {mse}\")\n",
    "print(f\"R-squared: {r2}\")"
   ]
  },
  {
   "cell_type": "code",
   "execution_count": 69,
   "id": "dce22582-c7c6-48c9-a6f1-2a462e35723c",
   "metadata": {},
   "outputs": [
    {
     "data": {
      "image/png": "[encoded data removed]",
      "text/plain": [
       "<Figure size 640x480 with 1 Axes>"
      ]
     },
     "metadata": {},
     "output_type": "display_data"
    }
   ],
   "source": [
    "import matplotlib.pyplot as plt \n",
    "residuals = y_test - y_pred #calculate residuals\n",
    "plt.scatter(y_test, residuals)\n",
    "plt.axhline(y=0, color='r', linestyle='--')\n",
    "plt.xlabel('Actual Values')\n",
    "plt.ylabel('Residuals')\n",
    "plt.title('Residual Plot')\n",
    "plt.show()"
   ]
  },
  {
   "cell_type": "code",
   "execution_count": 1,
   "id": "e756e7e7-db25-4b35-93e3-bc97ba513d45",
   "metadata": {},
   "outputs": [
    {
     "data": {
      "text/plain": [
       "'C:\\\\Users\\\\Chhama'"
      ]
     },
     "execution_count": 1,
     "metadata": {},
     "output_type": "execute_result"
    }
   ],
   "source": [
    "import os\n",
    "os.getcwd()"
   ]
  },
  {
   "cell_type": "code",
   "execution_count": null,
   "id": "3ed49d54-9de5-4bb8-8665-792199b24636",
   "metadata": {},
   "outputs": [],
   "source": []
  }
 ],
 "metadata": {
  "kernelspec": {
   "display_name": "Python 3 (ipykernel)",
   "language": "python",
   "name": "python3"
  },
  "language_info": {
   "codemirror_mode": {
    "name": "ipython",
    "version": 3
   },
   "file_extension": ".py",
   "mimetype": "text/x-python",
   "name": "python",
   "nbconvert_exporter": "python",
   "pygments_lexer": "ipython3",
   "version": "3.12.4"
  }
 },
 "nbformat": 4,
 "nbformat_minor": 5
}
